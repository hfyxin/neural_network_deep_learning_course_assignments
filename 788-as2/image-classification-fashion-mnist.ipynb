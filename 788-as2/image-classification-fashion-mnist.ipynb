{
 "cells": [
  {
   "cell_type": "markdown",
   "metadata": {
    "colab_type": "text",
    "id": "jYysdyb-CaWM"
   },
   "source": [
    "## Image classification\n",
    "\n",
    "Yixin Huangfu\n",
    "\n",
    "This assignment is about trains a neural network model to classify images of clothing."
   ]
  },
  {
   "cell_type": "markdown",
   "metadata": {
    "colab_type": "text",
    "id": "FbVhjPpzn6BM"
   },
   "source": [
    "In this assignment we are performing a classification task.\n",
    "- elaborate on the strategy that you use for design and optimization\n",
    "- when you decide to stop the training\n",
    "- how you add the Tensorboard to this assignment?"
   ]
  },
  {
   "cell_type": "code",
   "execution_count": 1,
   "metadata": {
    "colab": {},
    "colab_type": "code",
    "id": "jL3OqFKZ9dFg"
   },
   "outputs": [],
   "source": [
    "try:\n",
    "  # %tensorflow_version only exists in Colab.\n",
    "  %tensorflow_version 2.x\n",
    "except Exception:\n",
    "  pass\n"
   ]
  },
  {
   "cell_type": "code",
   "execution_count": 2,
   "metadata": {
    "colab": {},
    "colab_type": "code",
    "id": "dzLKpmZICaWN"
   },
   "outputs": [],
   "source": [
    "from __future__ import absolute_import, division, print_function, unicode_literals\n",
    "\n",
    "# TensorFlow and tf.keras\n",
    "import tensorflow as tf\n",
    "from tensorflow import keras\n",
    "\n",
    "# Helper libraries\n",
    "import numpy as np\n",
    "import matplotlib.pyplot as plt\n"
   ]
  },
  {
   "cell_type": "markdown",
   "metadata": {
    "colab_type": "text",
    "id": "yR0EdgrLCaWR"
   },
   "source": [
    "## Import the Fashion MNIST dataset"
   ]
  },
  {
   "cell_type": "markdown",
   "metadata": {
    "colab_type": "text",
    "id": "DLdCchMdCaWQ"
   },
   "source": [
    "We use the [Fashion MNIST](https://github.com/zalandoresearch/fashion-mnist) dataset which contains 70,000 grayscale images in 10 categories:\n",
    "\n",
    "<table>\n",
    "  <tr><td>\n",
    "    <img src=\"https://tensorflow.org/images/fashion-mnist-sprite.png\"\n",
    "         alt=\"Fashion MNIST sprite\"  width=\"600\">\n",
    "  </td></tr>\n",
    "  <tr><td align=\"center\">\n",
    "    <b>Figure 1.</b> <a href=\"https://github.com/zalandoresearch/fashion-mnist\">Fashion-MNIST samples</a> (by Zalando, MIT License).<br/>&nbsp;\n",
    "  </td></tr>\n",
    "</table>\n",
    "\n",
    "Fashion MNIST is intended as a drop-in replacement for the classic [MNIST](http://yann.lecun.com/exdb/mnist/) dataset—\n",
    "Import and load the Fashion MNIST data directly from keras (it is part of from keras.datasets ):"
   ]
  },
  {
   "cell_type": "code",
   "execution_count": 73,
   "metadata": {
    "colab": {},
    "colab_type": "code",
    "id": "7MqDQO0KCaWS"
   },
   "outputs": [],
   "source": [
    "(train_images, train_labels), (test_images, test_labels) = tf.keras.datasets.fashion_mnist.load_data()"
   ]
  },
  {
   "cell_type": "markdown",
   "metadata": {
    "colab_type": "text",
    "id": "t9FDsUlxCaWW"
   },
   "source": [
    "Loading the dataset returns four NumPy arrays:\n",
    "\n",
    "* The `train_images` and `train_labels` arrays are the *training set*—the data the model uses to learn.\n",
    "* The model is tested against the *test set*, the `test_images`, and `test_labels` arrays.\n",
    "\n",
    "The images are 28x28 NumPy arrays, with pixel values ranging from 0 to 255. The *labels* are an array of integers, ranging from 0 to 9. These correspond to the *class* of clothing the image represents:\n",
    "\n",
    "<table>\n",
    "  <tr>\n",
    "    <th>Label</th>\n",
    "    <th>Class</th>\n",
    "  </tr>\n",
    "  <tr>\n",
    "    <td>0</td>\n",
    "    <td>T-shirt/top</td>\n",
    "  </tr>\n",
    "  <tr>\n",
    "    <td>1</td>\n",
    "    <td>Trouser</td>\n",
    "  </tr>\n",
    "    <tr>\n",
    "    <td>2</td>\n",
    "    <td>Pullover</td>\n",
    "  </tr>\n",
    "    <tr>\n",
    "    <td>3</td>\n",
    "    <td>Dress</td>\n",
    "  </tr>\n",
    "    <tr>\n",
    "    <td>4</td>\n",
    "    <td>Coat</td>\n",
    "  </tr>\n",
    "    <tr>\n",
    "    <td>5</td>\n",
    "    <td>Sandal</td>\n",
    "  </tr>\n",
    "    <tr>\n",
    "    <td>6</td>\n",
    "    <td>Shirt</td>\n",
    "  </tr>\n",
    "    <tr>\n",
    "    <td>7</td>\n",
    "    <td>Sneaker</td>\n",
    "  </tr>\n",
    "    <tr>\n",
    "    <td>8</td>\n",
    "    <td>Bag</td>\n",
    "  </tr>\n",
    "    <tr>\n",
    "    <td>9</td>\n",
    "    <td>Ankle boot</td>\n",
    "  </tr>\n",
    "</table>\n",
    "\n",
    "Each image is mapped to a single label. Since the *class names* are not included with the dataset, store them here to use later when plotting the images:"
   ]
  },
  {
   "cell_type": "code",
   "execution_count": 74,
   "metadata": {
    "colab": {},
    "colab_type": "code",
    "id": "IjnLH5S2CaWx"
   },
   "outputs": [],
   "source": [
    "class_names = ['T-shirt/top', 'Trouser', 'Pullover', 'Dress', 'Coat',\n",
    "               'Sandal', 'Shirt', 'Sneaker', 'Bag', 'Ankle boot']"
   ]
  },
  {
   "cell_type": "markdown",
   "metadata": {
    "colab_type": "text",
    "id": "Brm0b_KACaWX"
   },
   "source": [
    "## Explore the data\n",
    "\n",
    "Let's explore the format of the dataset before training the model. The following shows there are 60,000 images in the training set, with each image represented as 28 x 28 pixels:"
   ]
  },
  {
   "cell_type": "code",
   "execution_count": 75,
   "metadata": {
    "colab": {},
    "colab_type": "code",
    "id": "zW5k_xz1CaWX"
   },
   "outputs": [
    {
     "data": {
      "text/plain": [
       "(60000, 28, 28)"
      ]
     },
     "execution_count": 75,
     "metadata": {},
     "output_type": "execute_result"
    }
   ],
   "source": [
    "train_images.shape"
   ]
  },
  {
   "cell_type": "markdown",
   "metadata": {
    "colab_type": "text",
    "id": "cIAcvQqMCaWf"
   },
   "source": [
    "Likewise, there are 60,000 labels in the training set:"
   ]
  },
  {
   "cell_type": "code",
   "execution_count": 76,
   "metadata": {
    "colab": {},
    "colab_type": "code",
    "id": "TRFYHB2mCaWb"
   },
   "outputs": [
    {
     "data": {
      "text/plain": [
       "60000"
      ]
     },
     "execution_count": 76,
     "metadata": {},
     "output_type": "execute_result"
    }
   ],
   "source": [
    "len(train_labels)"
   ]
  },
  {
   "cell_type": "markdown",
   "metadata": {
    "colab_type": "text",
    "id": "YSlYxFuRCaWk"
   },
   "source": [
    "Each label is an integer between 0 and 9:"
   ]
  },
  {
   "cell_type": "code",
   "execution_count": 7,
   "metadata": {
    "colab": {},
    "colab_type": "code",
    "id": "XKnCTHz4CaWg"
   },
   "outputs": [
    {
     "data": {
      "text/plain": [
       "array([9, 0, 0, ..., 3, 0, 5], dtype=uint8)"
      ]
     },
     "execution_count": 7,
     "metadata": {},
     "output_type": "execute_result"
    }
   ],
   "source": [
    "train_labels"
   ]
  },
  {
   "cell_type": "markdown",
   "metadata": {
    "colab_type": "text",
    "id": "TMPI88iZpO2T"
   },
   "source": [
    "There are 10,000 images in the test set. Again, each image is represented as 28 x 28 pixels:"
   ]
  },
  {
   "cell_type": "code",
   "execution_count": 77,
   "metadata": {
    "colab": {},
    "colab_type": "code",
    "id": "2KFnYlcwCaWl"
   },
   "outputs": [
    {
     "data": {
      "text/plain": [
       "(10000, 28, 28)"
      ]
     },
     "execution_count": 77,
     "metadata": {},
     "output_type": "execute_result"
    }
   ],
   "source": [
    "test_images.shape"
   ]
  },
  {
   "cell_type": "markdown",
   "metadata": {
    "colab_type": "text",
    "id": "rd0A0Iu0CaWq"
   },
   "source": [
    "And the test set contains 10,000 images labels:"
   ]
  },
  {
   "cell_type": "code",
   "execution_count": 78,
   "metadata": {
    "colab": {},
    "colab_type": "code",
    "id": "iJmPr5-ACaWn"
   },
   "outputs": [
    {
     "data": {
      "text/plain": [
       "10000"
      ]
     },
     "execution_count": 78,
     "metadata": {},
     "output_type": "execute_result"
    }
   ],
   "source": [
    "len(test_labels)"
   ]
  },
  {
   "cell_type": "markdown",
   "metadata": {
    "colab_type": "text",
    "id": "ES6uQoLKCaWr"
   },
   "source": [
    "## Preprocess the data\n",
    "\n",
    "The data must be preprocessed before training the network. If you inspect the first image in the training set, you will see that the pixel values fall in the range of 0 to 255:"
   ]
  },
  {
   "cell_type": "code",
   "execution_count": 10,
   "metadata": {
    "colab": {},
    "colab_type": "code",
    "id": "m4VEw8Ud9Quh"
   },
   "outputs": [
    {
     "data": {
      "image/png": "[encoded data removed]",
      "text/plain": [
       "<Figure size 432x288 with 2 Axes>"
      ]
     },
     "metadata": {
      "needs_background": "light"
     },
     "output_type": "display_data"
    }
   ],
   "source": [
    "plt.figure()\n",
    "plt.imshow(train_images[0])\n",
    "plt.colorbar()\n",
    "plt.grid(False)\n",
    "plt.show()"
   ]
  },
  {
   "cell_type": "markdown",
   "metadata": {
    "colab_type": "text",
    "id": "Wz7l27Lz9S1P"
   },
   "source": [
    "Scale these values to a range of 0 to 1 before feeding them to the neural network model. To do so, divide the values by 255. It's important that the *training set* and the *testing set* be preprocessed in the same way:"
   ]
  },
  {
   "cell_type": "code",
   "execution_count": 79,
   "metadata": {
    "colab": {},
    "colab_type": "code",
    "id": "bW5WzIPlCaWv"
   },
   "outputs": [],
   "source": [
    "train_images = train_images / 255\n",
    "\n",
    "test_images = test_images / 255"
   ]
  },
  {
   "cell_type": "markdown",
   "metadata": {
    "colab_type": "text",
    "id": "59veuiEZCaW4"
   },
   "source": [
    "## Build the model\n",
    "\n"
   ]
  },
  {
   "cell_type": "markdown",
   "metadata": {
    "colab_type": "text",
    "id": "Gxg1XGm0eOBy"
   },
   "source": [
    "### Set up the layers\n",
    "\n",
    "The basic building block of a neural network is the *layer*. The first layer in this network should convert the image to a vector (784 pixels) you may find the following layer useful: tf.keras.layers.Flatten and tf.keras.layers.Dense as well as softmax layer 10 clsses)."
   ]
  },
  {
   "cell_type": "code",
   "execution_count": 80,
   "metadata": {},
   "outputs": [],
   "source": [
    "model = tf.keras.models.Sequential([\n",
    "    tf.keras.layers.Flatten(),\n",
    "    tf.keras.layers.Dense(128, activation='relu'),\n",
    "    tf.keras.layers.Dense(64, activation='relu'),\n",
    "    tf.keras.layers.Dense(10, activation='softmax'),\n",
    "])"
   ]
  },
  {
   "cell_type": "markdown",
   "metadata": {
    "colab_type": "text",
    "id": "gut8A_7rCaW6"
   },
   "source": [
    "\n",
    "\n",
    "### Compile the model\n",
    "\n",
    "Before the model is ready for training, it needs a few more settings. These are added during the model's *compile* step:\n",
    "\n",
    "* *Loss function* —This measures how accurate the model is during training. You want to minimize this function to \"steer\" the model in the right direction.\n",
    "* *Optimizer* —This is how the model is updated based on the data it sees and its loss function.\n",
    "* *Metrics* —Used to monitor the training and testing steps. The following example uses *accuracy*, the fraction of the images that are correctly classified."
   ]
  },
  {
   "cell_type": "code",
   "execution_count": 81,
   "metadata": {
    "colab": {},
    "colab_type": "code",
    "id": "Lhan11blCaW7"
   },
   "outputs": [],
   "source": [
    "model.compile(optimizer=tf.keras.optimizers.Adam(learning_rate=0.001),\n",
    "              loss=tf.keras.losses.SparseCategoricalCrossentropy(),\n",
    "              metrics=['accuracy'])"
   ]
  },
  {
   "cell_type": "markdown",
   "metadata": {
    "colab_type": "text",
    "id": "qKF6uW-BCaW-"
   },
   "source": [
    "## Train the model\n",
    "\n",
    "Training the neural network model requires the following steps:\n",
    "\n",
    "1. Feed the training data to the model. In this example, the training data is in the `train_images` and `train_labels` arrays.\n",
    "2. The model learns to associate images and labels.\n",
    "3. You ask the model to make predictions about a test set—in this example, the `test_images` array.\n",
    "4. Verify that the predictions match the labels from the `test_labels` array.\n",
    "\n"
   ]
  },
  {
   "cell_type": "markdown",
   "metadata": {
    "colab_type": "text",
    "id": "Z4P4zIV7E28Z"
   },
   "source": [
    "### Feed the model\n",
    "\n",
    "To start training,  call the `model.fit` method—so called because it \"fits\" the model to the training data:"
   ]
  },
  {
   "cell_type": "code",
   "execution_count": 82,
   "metadata": {
    "colab": {},
    "colab_type": "code",
    "id": "xvwvpA64CaW_"
   },
   "outputs": [
    {
     "name": "stdout",
     "output_type": "stream",
     "text": [
      "Train on 60000 samples\n",
      "Epoch 1/20\n",
      "60000/60000 [==============================] - 4s 59us/sample - loss: 0.4884 - accuracy: 0.8250\n",
      "Epoch 2/20\n",
      "60000/60000 [==============================] - 3s 57us/sample - loss: 0.3642 - accuracy: 0.8658\n",
      "Epoch 3/20\n",
      "60000/60000 [==============================] - 3s 56us/sample - loss: 0.3296 - accuracy: 0.8782\n",
      "Epoch 4/20\n",
      "60000/60000 [==============================] - 3s 57us/sample - loss: 0.3077 - accuracy: 0.8866\n",
      "Epoch 5/20\n",
      "60000/60000 [==============================] - 3s 56us/sample - loss: 0.2900 - accuracy: 0.8923\n",
      "Epoch 6/20\n",
      "60000/60000 [==============================] - 3s 56us/sample - loss: 0.2745 - accuracy: 0.8974\n",
      "Epoch 7/20\n",
      "60000/60000 [==============================] - 3s 56us/sample - loss: 0.2651 - accuracy: 0.9008\n",
      "Epoch 8/20\n",
      "60000/60000 [==============================] - 3s 56us/sample - loss: 0.2520 - accuracy: 0.9049\n",
      "Epoch 9/20\n",
      "60000/60000 [==============================] - 3s 56us/sample - loss: 0.2424 - accuracy: 0.9081\n",
      "Epoch 10/20\n",
      "60000/60000 [==============================] - 3s 56us/sample - loss: 0.2363 - accuracy: 0.9098\n",
      "Epoch 11/20\n",
      "60000/60000 [==============================] - 3s 56us/sample - loss: 0.2243 - accuracy: 0.9144\n",
      "Epoch 12/20\n",
      "60000/60000 [==============================] - 3s 56us/sample - loss: 0.2187 - accuracy: 0.9164\n",
      "Epoch 13/20\n",
      "60000/60000 [==============================] - 3s 56us/sample - loss: 0.2135 - accuracy: 0.9181\n",
      "Epoch 14/20\n",
      "60000/60000 [==============================] - 3s 57us/sample - loss: 0.2073 - accuracy: 0.9208\n",
      "Epoch 15/20\n",
      "60000/60000 [==============================] - 3s 56us/sample - loss: 0.1996 - accuracy: 0.9238\n",
      "Epoch 16/20\n",
      "60000/60000 [==============================] - 3s 56us/sample - loss: 0.1933 - accuracy: 0.9269\n",
      "Epoch 17/20\n",
      "60000/60000 [==============================] - 3s 57us/sample - loss: 0.1898 - accuracy: 0.9268\n",
      "Epoch 18/20\n",
      "60000/60000 [==============================] - 3s 56us/sample - loss: 0.1837 - accuracy: 0.9294s - los\n",
      "Epoch 19/20\n",
      "60000/60000 [==============================] - 3s 56us/sample - loss: 0.1758 - accuracy: 0.9328\n",
      "Epoch 20/20\n",
      "60000/60000 [==============================] - 3s 57us/sample - loss: 0.1748 - accuracy: 0.9326\n"
     ]
    },
    {
     "data": {
      "text/plain": [
       "<tensorflow.python.keras.callbacks.History at 0x2a1a0630198>"
      ]
     },
     "execution_count": 82,
     "metadata": {},
     "output_type": "execute_result"
    }
   ],
   "source": [
    "model.fit(train_images, train_labels, epochs=20)"
   ]
  },
  {
   "cell_type": "markdown",
   "metadata": {
    "colab_type": "text",
    "id": "W3ZVOhugCaXA"
   },
   "source": [
    "As the model trains, the loss and accuracy metrics are displayed."
   ]
  },
  {
   "cell_type": "markdown",
   "metadata": {
    "colab_type": "text",
    "id": "wCpr6DGyE28h"
   },
   "source": [
    "### Evaluate accuracy\n",
    "\n",
    "Next, compare how the model performs on the test dataset:"
   ]
  },
  {
   "cell_type": "code",
   "execution_count": 83,
   "metadata": {
    "colab": {},
    "colab_type": "code",
    "id": "VflXLEeECaXC"
   },
   "outputs": [
    {
     "name": "stdout",
     "output_type": "stream",
     "text": [
      "10000/1 - 0s - loss: 0.3656 - accuracy: 0.8899\n",
      "\n",
      "Test accuracy: 0.8899\n"
     ]
    }
   ],
   "source": [
    "test_loss, test_acc = model.evaluate(test_images, test_labels, verbose=2)\n",
    "\n",
    "print('\\nTest accuracy:', test_acc)"
   ]
  },
  {
   "cell_type": "markdown",
   "metadata": {
    "colab_type": "text",
    "id": "yWfgsmVXCaXG"
   },
   "source": [
    "Elaborate on the overfitting/ underfitting and how to fix it:\n",
    "\n",
    "**Answer**\n",
    "\n",
    "The original training result gives training accuracy of 93%, while test accuracy is 89%. This is an overfitting issue. With dataset being fixed, there are two ways to overcome this.\n",
    "\n",
    "- Use regularization\n",
    "- Use a better model\n",
    "\n",
    "I tried to add l2 regularization to the Dense layer, but it doesn't help much. However, I successfully reduced the overfitting with another technique called Dropout, as shown by ```model2``` below. Now the train acc is 90.7% vs test acc 88.6%, difference is 2%.\n",
    "\n",
    "Using Convolutional Neural Network with Dropout also help reduce overfitting. The ```model3``` below shows train acc 92.6% vs test acc 91.4%"
   ]
  },
  {
   "cell_type": "code",
   "execution_count": 89,
   "metadata": {
    "colab": {},
    "colab_type": "code",
    "id": "9ODch-OFCaW4",
    "scrolled": true
   },
   "outputs": [
    {
     "name": "stdout",
     "output_type": "stream",
     "text": [
      "Train on 60000 samples\n",
      "Epoch 1/30\n",
      "60000/60000 [==============================] - 4s 65us/sample - loss: 0.6304 - accuracy: 0.7941\n",
      "Epoch 2/30\n",
      "60000/60000 [==============================] - 4s 59us/sample - loss: 0.4602 - accuracy: 0.8464\n",
      "Epoch 3/30\n",
      "60000/60000 [==============================] - 4s 59us/sample - loss: 0.4162 - accuracy: 0.8604\n",
      "Epoch 4/30\n",
      "60000/60000 [==============================] - 4s 59us/sample - loss: 0.3899 - accuracy: 0.8648\n",
      "Epoch 5/30\n",
      "60000/60000 [==============================] - 3s 58us/sample - loss: 0.3721 - accuracy: 0.8724\n",
      "Epoch 6/30\n",
      "60000/60000 [==============================] - 4s 59us/sample - loss: 0.3591 - accuracy: 0.8766\n",
      "Epoch 7/30\n",
      "60000/60000 [==============================] - 4s 60us/sample - loss: 0.3520 - accuracy: 0.8805\n",
      "Epoch 8/30\n",
      "60000/60000 [==============================] - 4s 59us/sample - loss: 0.3415 - accuracy: 0.8822\n",
      "Epoch 9/30\n",
      "60000/60000 [==============================] - 4s 60us/sample - loss: 0.3357 - accuracy: 0.8846\n",
      "Epoch 10/30\n",
      "60000/60000 [==============================] - 4s 60us/sample - loss: 0.3283 - accuracy: 0.8856\n",
      "Epoch 11/30\n",
      "60000/60000 [==============================] - 4s 59us/sample - loss: 0.3227 - accuracy: 0.8878\n",
      "Epoch 12/30\n",
      "60000/60000 [==============================] - 4s 60us/sample - loss: 0.3157 - accuracy: 0.8899\n",
      "Epoch 13/30\n",
      "60000/60000 [==============================] - 4s 60us/sample - loss: 0.3155 - accuracy: 0.8910\n",
      "Epoch 14/30\n",
      "60000/60000 [==============================] - 4s 60us/sample - loss: 0.3093 - accuracy: 0.8932\n",
      "Epoch 15/30\n",
      "60000/60000 [==============================] - 4s 60us/sample - loss: 0.3076 - accuracy: 0.8924\n",
      "Epoch 16/30\n",
      "60000/60000 [==============================] - 4s 60us/sample - loss: 0.2985 - accuracy: 0.8961\n",
      "Epoch 17/30\n",
      "60000/60000 [==============================] - 4s 59us/sample - loss: 0.2990 - accuracy: 0.8965\n",
      "Epoch 18/30\n",
      "60000/60000 [==============================] - 4s 59us/sample - loss: 0.2954 - accuracy: 0.8976\n",
      "Epoch 19/30\n",
      "60000/60000 [==============================] - 4s 62us/sample - loss: 0.2903 - accuracy: 0.8998\n",
      "Epoch 20/30\n",
      "60000/60000 [==============================] - 4s 63us/sample - loss: 0.2872 - accuracy: 0.9013\n",
      "Epoch 21/30\n",
      "60000/60000 [==============================] - 3s 58us/sample - loss: 0.2873 - accuracy: 0.9008\n",
      "Epoch 22/30\n",
      "60000/60000 [==============================] - 4s 59us/sample - loss: 0.2829 - accuracy: 0.9007\n",
      "Epoch 23/30\n",
      "60000/60000 [==============================] - 4s 60us/sample - loss: 0.2790 - accuracy: 0.9036\n",
      "Epoch 24/30\n",
      "60000/60000 [==============================] - 4s 59us/sample - loss: 0.2778 - accuracy: 0.9033\n",
      "Epoch 25/30\n",
      "60000/60000 [==============================] - 4s 60us/sample - loss: 0.2742 - accuracy: 0.9066s - loss: 0.2749 - ac - ETA: 0s - loss: 0.2762 \n",
      "Epoch 26/30\n",
      "60000/60000 [==============================] - 4s 60us/sample - loss: 0.2689 - accuracy: 0.9076\n",
      "Epoch 27/30\n",
      "60000/60000 [==============================] - 4s 59us/sample - loss: 0.2722 - accuracy: 0.9051s -\n",
      "Epoch 28/30\n",
      "60000/60000 [==============================] - 4s 60us/sample - loss: 0.2669 - accuracy: 0.9075\n",
      "Epoch 29/30\n",
      "60000/60000 [==============================] - 4s 59us/sample - loss: 0.2702 - accuracy: 0.9061\n",
      "Epoch 30/30\n",
      "60000/60000 [==============================] - 4s 59us/sample - loss: 0.2638 - accuracy: 0.9075\n",
      "10000/1 - 0s - loss: 0.2284 - accuracy: 0.8861\n",
      "\n",
      "Test accuracy: 0.8861\n"
     ]
    }
   ],
   "source": [
    "# Adding regularization and dropout to reduce overfitting\n",
    "model2 = tf.keras.models.Sequential([\n",
    "    tf.keras.layers.Flatten(),\n",
    "    tf.keras.layers.Dense(128, activation='relu'),\n",
    "    tf.keras.layers.Dropout(0.2),\n",
    "    tf.keras.layers.Dense(64, activation='relu',kernel_regularizer=tf.keras.regularizers.l2(0.001)),\n",
    "    tf.keras.layers.Dropout(0.2),\n",
    "    tf.keras.layers.Dense(10, activation='softmax'),\n",
    "])\n",
    "\n",
    "model2.compile(optimizer=tf.keras.optimizers.Adam(learning_rate=0.001),\n",
    "              loss=tf.keras.losses.SparseCategoricalCrossentropy(),\n",
    "              metrics=['accuracy'])\n",
    "\n",
    "model2.fit(train_images, train_labels, epochs=30)\n",
    "\n",
    "test_loss, test_acc = model2.evaluate(test_images, test_labels, verbose=2)\n",
    "print('\\nTest accuracy:', test_acc)"
   ]
  },
  {
   "cell_type": "code",
   "execution_count": 94,
   "metadata": {
    "scrolled": true
   },
   "outputs": [
    {
     "name": "stdout",
     "output_type": "stream",
     "text": [
      "Train on 60000 samples\n",
      "Epoch 1/20\n",
      "60000/60000 [==============================] - 5s 83us/sample - loss: 0.5424 - accuracy: 0.8023\n",
      "Epoch 2/20\n",
      "60000/60000 [==============================] - 5s 76us/sample - loss: 0.3820 - accuracy: 0.8592\n",
      "Epoch 3/20\n",
      "60000/60000 [==============================] - 5s 76us/sample - loss: 0.3397 - accuracy: 0.8752\n",
      "Epoch 4/20\n",
      "60000/60000 [==============================] - 5s 75us/sample - loss: 0.3131 - accuracy: 0.8840\n",
      "Epoch 5/20\n",
      "60000/60000 [==============================] - 5s 75us/sample - loss: 0.2904 - accuracy: 0.8926\n",
      "Epoch 6/20\n",
      "60000/60000 [==============================] - 5s 76us/sample - loss: 0.2762 - accuracy: 0.8967s - loss: 0.2762 - accu\n",
      "Epoch 7/20\n",
      "60000/60000 [==============================] - 5s 76us/sample - loss: 0.2619 - accuracy: 0.9028\n",
      "Epoch 8/20\n",
      "60000/60000 [==============================] - 5s 75us/sample - loss: 0.2520 - accuracy: 0.9067\n",
      "Epoch 9/20\n",
      "60000/60000 [==============================] - 4s 75us/sample - loss: 0.2423 - accuracy: 0.9098\n",
      "Epoch 10/20\n",
      "60000/60000 [==============================] - 5s 75us/sample - loss: 0.2385 - accuracy: 0.9112\n",
      "Epoch 11/20\n",
      "60000/60000 [==============================] - 4s 74us/sample - loss: 0.2316 - accuracy: 0.9134\n",
      "Epoch 12/20\n",
      "60000/60000 [==============================] - 5s 76us/sample - loss: 0.2271 - accuracy: 0.9149\n",
      "Epoch 13/20\n",
      "60000/60000 [==============================] - 5s 77us/sample - loss: 0.2210 - accuracy: 0.9160\n",
      "Epoch 14/20\n",
      "60000/60000 [==============================] - 5s 77us/sample - loss: 0.2151 - accuracy: 0.9194\n",
      "Epoch 15/20\n",
      "60000/60000 [==============================] - 5s 77us/sample - loss: 0.2135 - accuracy: 0.9196\n",
      "Epoch 16/20\n",
      "60000/60000 [==============================] - 5s 77us/sample - loss: 0.2079 - accuracy: 0.9230\n",
      "Epoch 17/20\n",
      "60000/60000 [==============================] - 5s 77us/sample - loss: 0.2040 - accuracy: 0.9236\n",
      "Epoch 18/20\n",
      "60000/60000 [==============================] - 5s 76us/sample - loss: 0.2015 - accuracy: 0.9231\n",
      "Epoch 19/20\n",
      "60000/60000 [==============================] - 5s 76us/sample - loss: 0.1981 - accuracy: 0.9246\n",
      "Epoch 20/20\n",
      "60000/60000 [==============================] - 5s 76us/sample - loss: 0.1951 - accuracy: 0.9268\n",
      "10000/1 - 1s - loss: 0.2153 - accuracy: 0.9142\n",
      "\n",
      "Test accuracy: 0.9142\n"
     ]
    }
   ],
   "source": [
    "# Using CNN and Dropout\n",
    "model3 = tf.keras.models.Sequential([\n",
    "    tf.keras.layers.Conv2D(16, 3, activation='relu', input_shape=(28,28,1)),\n",
    "    tf.keras.layers.Dropout(0.25),\n",
    "    tf.keras.layers.MaxPooling2D(),\n",
    "    tf.keras.layers.Conv2D(32, 3, activation='relu'),\n",
    "    tf.keras.layers.Dropout(0.25),\n",
    "    tf.keras.layers.MaxPooling2D(),\n",
    "    tf.keras.layers.Flatten(),\n",
    "    tf.keras.layers.Dense(128, activation='relu'),\n",
    "    tf.keras.layers.Dropout(0.25),\n",
    "    tf.keras.layers.Dense(10, activation='softmax'),\n",
    "])\n",
    "\n",
    "model3.compile(optimizer=tf.keras.optimizers.Adam(learning_rate=0.001),\n",
    "              loss=tf.keras.losses.SparseCategoricalCrossentropy(),\n",
    "              metrics=['accuracy'])\n",
    "\n",
    "model3.fit(train_images.reshape(train_images.shape + (1,)), train_labels, epochs=20)\n",
    "\n",
    "\n",
    "test_loss, test_acc = model3.evaluate(test_images.reshape(test_images.shape + (1,)), test_labels, verbose=2)\n",
    "print('\\nTest accuracy:', test_acc)"
   ]
  },
  {
   "cell_type": "markdown",
   "metadata": {
    "colab_type": "text",
    "id": "v-PyD1SYE28q"
   },
   "source": [
    "### Make predictions\n",
    "\n",
    "With the model trained, you can use it to make predictions about some images."
   ]
  },
  {
   "cell_type": "code",
   "execution_count": 36,
   "metadata": {
    "colab": {},
    "colab_type": "code",
    "id": "Gl91RPhdCaXI"
   },
   "outputs": [],
   "source": [
    "predictions = model.predict(test_images)"
   ]
  },
  {
   "cell_type": "markdown",
   "metadata": {
    "colab_type": "text",
    "id": "x9Kk1voUCaXJ"
   },
   "source": [
    "Here, the model has predicted the label for each image in the testing set. Let's take a look at the first prediction:"
   ]
  },
  {
   "cell_type": "code",
   "execution_count": 37,
   "metadata": {
    "colab": {},
    "colab_type": "code",
    "id": "3DmJEUinCaXK"
   },
   "outputs": [
    {
     "data": {
      "text/plain": [
       "array([5.1144025e-07, 2.2921041e-09, 2.6876382e-06, 1.0987911e-12,\n",
       "       2.7849557e-08, 5.1741297e-03, 8.5812991e-07, 1.5629863e-02,\n",
       "       4.9265689e-04, 9.7869933e-01], dtype=float32)"
      ]
     },
     "execution_count": 37,
     "metadata": {},
     "output_type": "execute_result"
    }
   ],
   "source": [
    "predictions[0]"
   ]
  },
  {
   "cell_type": "markdown",
   "metadata": {
    "colab_type": "text",
    "id": "-hw1hgeSCaXN"
   },
   "source": [
    "A prediction is an array of 10 numbers. They represent the model's \"confidence\" that the image corresponds to each of the 10 different articles of clothing. You can see which label has the highest confidence value:"
   ]
  },
  {
   "cell_type": "code",
   "execution_count": 38,
   "metadata": {
    "colab": {},
    "colab_type": "code",
    "id": "qsqenuPnCaXO"
   },
   "outputs": [
    {
     "data": {
      "text/plain": [
       "9"
      ]
     },
     "execution_count": 38,
     "metadata": {},
     "output_type": "execute_result"
    }
   ],
   "source": [
    "np.argmax(predictions[0])"
   ]
  },
  {
   "cell_type": "markdown",
   "metadata": {
    "colab_type": "text",
    "id": "E51yS7iCCaXO"
   },
   "source": [
    "So, the model is most confident that this image is an ankle boot, or `class_names[9]`. Examining the test label shows that this classification is correct:"
   ]
  },
  {
   "cell_type": "code",
   "execution_count": 39,
   "metadata": {
    "colab": {},
    "colab_type": "code",
    "id": "Sd7Pgsu6CaXP"
   },
   "outputs": [
    {
     "data": {
      "text/plain": [
       "9"
      ]
     },
     "execution_count": 39,
     "metadata": {},
     "output_type": "execute_result"
    }
   ],
   "source": [
    "test_labels[0]"
   ]
  },
  {
   "cell_type": "code",
   "execution_count": 40,
   "metadata": {
    "colab": {},
    "colab_type": "code",
    "id": "yRJ7JU7JCaXT"
   },
   "outputs": [
    {
     "name": "stdout",
     "output_type": "stream",
     "text": [
      "(28, 28)\n"
     ]
    }
   ],
   "source": [
    "# Grab an image from the test dataset.\n",
    "img = test_images[1]\n",
    "\n",
    "print(img.shape)"
   ]
  },
  {
   "cell_type": "markdown",
   "metadata": {
    "colab_type": "text",
    "id": "vz3bVp21CaXV"
   },
   "source": [
    "`tf.keras` models are optimized to make predictions on a *batch*, or collection, of examples at once. Accordingly, even though you're using a single image, you need to add it to a list:"
   ]
  },
  {
   "cell_type": "code",
   "execution_count": 41,
   "metadata": {
    "colab": {},
    "colab_type": "code",
    "id": "lDFh5yF_CaXW"
   },
   "outputs": [
    {
     "name": "stdout",
     "output_type": "stream",
     "text": [
      "(1, 28, 28)\n"
     ]
    }
   ],
   "source": [
    "# Add the image to a batch where it's the only member.\n",
    "img = (np.expand_dims(img,0))\n",
    "\n",
    "print(img.shape)"
   ]
  },
  {
   "cell_type": "markdown",
   "metadata": {
    "colab_type": "text",
    "id": "EQ5wLTkcCaXY"
   },
   "source": [
    "Now predict the correct label for this image:"
   ]
  },
  {
   "cell_type": "code",
   "execution_count": 42,
   "metadata": {
    "colab": {},
    "colab_type": "code",
    "id": "o_rzNSdrCaXY"
   },
   "outputs": [
    {
     "name": "stdout",
     "output_type": "stream",
     "text": [
      "[[5.6265282e-05 4.2805381e-11 9.9573094e-01 1.9248487e-09 1.5190736e-03\n",
      "  3.6040825e-17 2.6936575e-03 1.4191970e-24 1.2967760e-09 1.8266137e-24]]\n"
     ]
    }
   ],
   "source": [
    "predictions_single = model.predict(img)\n",
    "\n",
    "print(predictions_single)"
   ]
  },
  {
   "cell_type": "code",
   "execution_count": 44,
   "metadata": {},
   "outputs": [],
   "source": [
    "def plot_value_array(i, predictions_array, true_label):\n",
    "    predictions_array, true_label = predictions_array, true_label[i]\n",
    "    plt.grid(False)\n",
    "    plt.xticks(range(10))\n",
    "    plt.yticks([])\n",
    "    thisplot = plt.bar(range(10), predictions_array, color=\"#777777\")\n",
    "    plt.ylim([0, 1])\n",
    "    predicted_label = np.argmax(predictions_array)\n",
    "\n",
    "    thisplot[predicted_label].set_color('red')\n",
    "    thisplot[true_label].set_color('blue')"
   ]
  },
  {
   "cell_type": "code",
   "execution_count": 45,
   "metadata": {
    "colab": {},
    "colab_type": "code",
    "id": "6Ai-cpLjO-3A"
   },
   "outputs": [
    {
     "data": {
      "image/png": "[encoded data removed]",
      "text/plain": [
       "<Figure size 432x288 with 1 Axes>"
      ]
     },
     "metadata": {
      "needs_background": "light"
     },
     "output_type": "display_data"
    }
   ],
   "source": [
    "plot_value_array(1, predictions_single[0], test_labels)\n",
    "_ = plt.xticks(range(10), class_names, rotation=45)"
   ]
  }
 ],
 "metadata": {
  "colab": {
   "collapsed_sections": [],
   "name": "classification.ipynb",
   "private_outputs": true,
   "provenance": [],
   "toc_visible": true
  },
  "kernelspec": {
   "display_name": "Python 3",
   "language": "python",
   "name": "python3"
  },
  "language_info": {
   "codemirror_mode": {
    "name": "ipython",
    "version": 3
   },
   "file_extension": ".py",
   "mimetype": "text/x-python",
   "name": "python",
   "nbconvert_exporter": "python",
   "pygments_lexer": "ipython3",
   "version": "3.6.9"
  }
 },
 "nbformat": 4,
 "nbformat_minor": 1
}