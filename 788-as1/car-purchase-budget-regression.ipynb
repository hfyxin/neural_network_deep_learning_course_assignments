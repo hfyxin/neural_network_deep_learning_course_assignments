{
 "cells": [
  {
   "cell_type": "markdown",
   "metadata": {},
   "source": [
    "## CHEMENG/MECHENG 788 Assginment 1\n",
    "\n",
    "Yixin (Elliott) Huangfu\n",
    "\n",
    "**Conclusion is at the bottom of this document.**\n",
    "\n",
    "In this example, we are trying to predict the value of a potential car sale (i.e. how much a particular person will spend on buying a car) for a customer based on the following attributes:\n",
    "- Age\n",
    "- Gender\n",
    "- Average miles driven per day\n",
    "- Personal debt\n",
    "- Monthly income\n",
    "\n",
    "Divid the data  to the train and test data sets with two different split:\n",
    "- 80% train and 20% test\n",
    "- 60% train and 40% test\n",
    "\n",
    "for each set of train and test :\n",
    "1. build a FNN model on train data\n",
    "2. plot the train and validation loss vs. epoch\n",
    "3. find the mean square error as the score of the model prediction for both train and test data set.\n",
    "\n",
    "Write your conclusion for the score of the prediction for train and test.\n",
    "\n",
    "Start Date: Jan 18, 2020 11:02 PM\n",
    "\n",
    "Due Date: Feb 2, 2020 11:30 PM"
   ]
  },
  {
   "cell_type": "markdown",
   "metadata": {},
   "source": [
    "## Import and Examine Data"
   ]
  },
  {
   "cell_type": "code",
   "execution_count": 26,
   "metadata": {},
   "outputs": [
    {
     "data": {
      "text/html": [
       "<div>\n",
       "<style scoped>\n",
       "    .dataframe tbody tr th:only-of-type {\n",
       "        vertical-align: middle;\n",
       "    }\n",
       "\n",
       "    .dataframe tbody tr th {\n",
       "        vertical-align: top;\n",
       "    }\n",
       "\n",
       "    .dataframe thead th {\n",
       "        text-align: right;\n",
       "    }\n",
       "</style>\n",
       "<table border=\"1\" class=\"dataframe\">\n",
       "  <thead>\n",
       "    <tr style=\"text-align: right;\">\n",
       "      <th></th>\n",
       "      <th>age</th>\n",
       "      <th>gender</th>\n",
       "      <th>miles</th>\n",
       "      <th>debt</th>\n",
       "      <th>salary</th>\n",
       "      <th>budget</th>\n",
       "    </tr>\n",
       "  </thead>\n",
       "  <tbody>\n",
       "    <tr>\n",
       "      <td>0</td>\n",
       "      <td>28</td>\n",
       "      <td>0</td>\n",
       "      <td>23</td>\n",
       "      <td>0</td>\n",
       "      <td>4099</td>\n",
       "      <td>620</td>\n",
       "    </tr>\n",
       "    <tr>\n",
       "      <td>1</td>\n",
       "      <td>26</td>\n",
       "      <td>0</td>\n",
       "      <td>27</td>\n",
       "      <td>0</td>\n",
       "      <td>2677</td>\n",
       "      <td>1792</td>\n",
       "    </tr>\n",
       "    <tr>\n",
       "      <td>2</td>\n",
       "      <td>30</td>\n",
       "      <td>1</td>\n",
       "      <td>58</td>\n",
       "      <td>41576</td>\n",
       "      <td>6215</td>\n",
       "      <td>27754</td>\n",
       "    </tr>\n",
       "    <tr>\n",
       "      <td>3</td>\n",
       "      <td>26</td>\n",
       "      <td>1</td>\n",
       "      <td>25</td>\n",
       "      <td>43172</td>\n",
       "      <td>7626</td>\n",
       "      <td>28256</td>\n",
       "    </tr>\n",
       "    <tr>\n",
       "      <td>4</td>\n",
       "      <td>20</td>\n",
       "      <td>1</td>\n",
       "      <td>17</td>\n",
       "      <td>6979</td>\n",
       "      <td>8071</td>\n",
       "      <td>4438</td>\n",
       "    </tr>\n",
       "  </tbody>\n",
       "</table>\n",
       "</div>"
      ],
      "text/plain": [
       "   age  gender  miles   debt  salary  budget\n",
       "0   28       0     23      0    4099     620\n",
       "1   26       0     27      0    2677    1792\n",
       "2   30       1     58  41576    6215   27754\n",
       "3   26       1     25  43172    7626   28256\n",
       "4   20       1     17   6979    8071    4438"
      ]
     },
     "execution_count": 26,
     "metadata": {},
     "output_type": "execute_result"
    }
   ],
   "source": [
    "import pandas as pd\n",
    "names = ['age','gender','miles','debt','salary','budget']\n",
    "cars = pd.read_csv('cars.csv', names=names)\n",
    "cars.head()"
   ]
  },
  {
   "cell_type": "code",
   "execution_count": 286,
   "metadata": {
    "scrolled": false
   },
   "outputs": [
    {
     "name": "stdout",
     "output_type": "stream",
     "text": [
      "Histograms for each feature\n"
     ]
    },
    {
     "data": {
      "image/png": "[encoded data removed]",
      "text/plain": [
       "<Figure size 1080x648 with 6 Axes>"
      ]
     },
     "metadata": {
      "needs_background": "light"
     },
     "output_type": "display_data"
    }
   ],
   "source": [
    "cars.hist(figsize=(15,9))\n",
    "print('Histograms for each feature')"
   ]
  },
  {
   "cell_type": "markdown",
   "metadata": {},
   "source": [
    "### Preprocessing (80% training size)"
   ]
  },
  {
   "cell_type": "code",
   "execution_count": 200,
   "metadata": {},
   "outputs": [],
   "source": [
    "from sklearn.model_selection import train_test_split\n",
    "from sklearn.preprocessing import StandardScaler\n",
    "\n",
    "def preprocess(data, train_size=0.6):\n",
    "    '''Preprocess the cars data.'''\n",
    "    X = data.drop('budget',axis=1)\n",
    "    y = data['budget']\n",
    "\n",
    "    X_train, X_test, y_train, y_test = train_test_split(X, y, train_size=train_size)\n",
    "    print(\"Size of train set:{}, test set:{}\".format(X_train.shape[0], X_test.shape[0]))\n",
    "\n",
    "    scaler = StandardScaler()\n",
    "    scaler.fit(X_train)\n",
    "    X_train = scaler.transform(X_train)\n",
    "    X_test = scaler.transform(X_test)\n",
    "    \n",
    "    return X_train, X_test, y_train, y_test"
   ]
  },
  {
   "cell_type": "code",
   "execution_count": 440,
   "metadata": {
    "scrolled": true
   },
   "outputs": [
    {
     "name": "stdout",
     "output_type": "stream",
     "text": [
      "Size of train set:770, test set:193\n"
     ]
    }
   ],
   "source": [
    "X_train, X_test, y_train, y_test = preprocess(cars, train_size=0.8)"
   ]
  },
  {
   "cell_type": "markdown",
   "metadata": {},
   "source": [
    "### FNN model"
   ]
  },
  {
   "cell_type": "code",
   "execution_count": 202,
   "metadata": {},
   "outputs": [],
   "source": [
    "from sklearn.neural_network import MLPRegressor\n",
    "import matplotlib.pyplot as plt"
   ]
  },
  {
   "cell_type": "code",
   "execution_count": 445,
   "metadata": {},
   "outputs": [
    {
     "name": "stdout",
     "output_type": "stream",
     "text": [
      "Final training loss: 4.93e+06\n"
     ]
    },
    {
     "data": {
      "image/png": "[encoded data removed]",
      "text/plain": [
       "<Figure size 432x288 with 1 Axes>"
      ]
     },
     "metadata": {
      "needs_background": "light"
     },
     "output_type": "display_data"
    }
   ],
   "source": [
    "mlp = MLPRegressor(hidden_layer_sizes=(20,30,20),max_iter=500,\n",
    "                   learning_rate='adaptive', learning_rate_init=0.1)\n",
    "\n",
    "mlp.fit(X_train,y_train)\n",
    "\n",
    "# plot loss curve\n",
    "plt.plot(mlp.loss_curve_)\n",
    "plt.title('Train loss vs epoch')\n",
    "print('Final training loss: {:.2e}'.format(mlp.loss_))"
   ]
  },
  {
   "cell_type": "markdown",
   "metadata": {},
   "source": [
    "## Evaluation"
   ]
  },
  {
   "cell_type": "code",
   "execution_count": 109,
   "metadata": {},
   "outputs": [],
   "source": [
    "from sklearn.metrics import mean_squared_error, max_error, explained_variance_score"
   ]
  },
  {
   "cell_type": "code",
   "execution_count": 198,
   "metadata": {
    "scrolled": true
   },
   "outputs": [
    {
     "name": "stdout",
     "output_type": "stream",
     "text": [
      "Test sample #1:\n",
      "  Truth:2531 - Prediction:3596.16 - Squared_Error:1,134,561.31\n"
     ]
    }
   ],
   "source": [
    "# Examine one prediction\n",
    "idx = 1\n",
    "sample = X_test[idx:idx+1]\n",
    "sample_y = y_test[idx:idx+1].values[0]\n",
    "pred = mlp.predict(sample)[0]\n",
    "SE = (pred - sample_y) ** 2\n",
    "print('Test sample #{}:'.format(idx,))\n",
    "print('  Truth:{} - Prediction:{:.2f} - Squared_Error:{:,.2f}'.format(sample_y,pred,SE))"
   ]
  },
  {
   "cell_type": "code",
   "execution_count": 446,
   "metadata": {},
   "outputs": [
    {
     "name": "stdout",
     "output_type": "stream",
     "text": [
      "MSE of train data: 9,957,425\n",
      "MSE of test data:  9,281,406\n"
     ]
    }
   ],
   "source": [
    "# Evaluation across dataset\n",
    "pred_train = mlp.predict(X_train)\n",
    "pred_test = mlp.predict(X_test)\n",
    "print('MSE of train data: {:,.0f}'.format(mean_squared_error(y_train.values,pred_train)))\n",
    "print('MSE of test data:  {:,.0f}'.format(mean_squared_error(y_test.values,pred_test)))"
   ]
  },
  {
   "cell_type": "markdown",
   "metadata": {},
   "source": [
    "## Result with 60% Training Size"
   ]
  },
  {
   "cell_type": "code",
   "execution_count": 375,
   "metadata": {},
   "outputs": [
    {
     "name": "stdout",
     "output_type": "stream",
     "text": [
      "Size of train set:577, test set:386\n",
      "Final training loss: 4.73e+06\n",
      "MSE of train data: 9,385,106\n",
      "MSE of test data:  14,240,192\n"
     ]
    },
    {
     "data": {
      "image/png": "[encoded data removed]",
      "text/plain": [
       "<Figure size 432x288 with 1 Axes>"
      ]
     },
     "metadata": {
      "needs_background": "light"
     },
     "output_type": "display_data"
    }
   ],
   "source": [
    "## Code copied from above\n",
    "# Preprocessing\n",
    "X_train, X_test, y_train, y_test = preprocess(cars, train_size=0.6)\n",
    "\n",
    "# Training\n",
    "mlp = MLPRegressor(hidden_layer_sizes=(20,30,20),max_iter=500,\n",
    "                   learning_rate='adaptive', learning_rate_init=0.1)\n",
    "\n",
    "mlp.fit(X_train,y_train)\n",
    "\n",
    "# plot loss curve\n",
    "plt.plot(mlp.loss_curve_)\n",
    "plt.title('Train loss vs epoch')\n",
    "print('Final training loss: {:.2e}'.format(mlp.loss_))\n",
    "\n",
    "# Evaluation across dataset\n",
    "pred_test = mlp.predict(X_test)\n",
    "pred_train = mlp.predict(X_train)\n",
    "print('MSE of train data: {:,.0f}'.format(mean_squared_error(y_train.values,pred_train)))\n",
    "print('MSE of test data:  {:,.0f}'.format(mean_squared_error(y_test.values,pred_test)))"
   ]
  },
  {
   "cell_type": "markdown",
   "metadata": {},
   "source": [
    "## Conclusion\n",
    "\n",
    "With a fully connected neural network, hidden layer = (20,30,20), each training produces different MSE result. In general they lie within a certain range. The variation in the MSE value may come from random sampling during train-test split and random initialization of the training. Concretely,\n",
    "\n",
    "With 80% training size:\n",
    "- The MSE on train set is between $0.9 - 1.4 \\times 10^6$.\n",
    "- The MSE on test set is between $0.9 - 1.4 \\times 10^6$, generally larger than MSE of training set.\n",
    "\n",
    "With 60% training size:\n",
    "- The MSE on train set is between $0.8 - 1.4 \\times 10^6$.\n",
    "- The MSE on test set is between $1.0 - 1.5 \\times 10^6$, generally larger than MSE of training set.\n",
    "\n",
    "Based on the observation of muliple training, more training data does not necessarily improve prerformance, but it reduces the variation of MSE produced by each individual training. The difference between train set MSE and test set MSE is also lower with 80% training separation."
   ]
  },
  {
   "cell_type": "code",
   "execution_count": null,
   "metadata": {},
   "outputs": [],
   "source": []
  }
 ],
 "metadata": {
  "kernelspec": {
   "display_name": "Python 3",
   "language": "python",
   "name": "python3"
  },
  "language_info": {
   "codemirror_mode": {
    "name": "ipython",
    "version": 3
   },
   "file_extension": ".py",
   "mimetype": "text/x-python",
   "name": "python",
   "nbconvert_exporter": "python",
   "pygments_lexer": "ipython3",
   "version": "3.6.9"
  }
 },
 "nbformat": 4,
 "nbformat_minor": 2
}
